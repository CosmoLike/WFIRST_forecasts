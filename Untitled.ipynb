{
 "cells": [
  {
   "cell_type": "code",
   "execution_count": null,
   "metadata": {},
   "outputs": [],
   "source": [
    "import sys\n",
    "import math, numpy as np\n",
    "import matplotlib.pyplot as plt\n",
    "import matplotlib.image as mpimg\n",
    "from numpy import linalg as LA\n",
    "import numpy as np\n",
    "\n",
    "infile =['/users/timeifler/Dropbox/cosmolike_store/WFIRST_forecasts/cov/WFIRST_5.100000e+01_2.500000e-01_2.000000e+03_Ncl15_Ntomo10_clusterNtomo3_lmin4000_WFIRSTLSSTzdistri_orig_redmagic_4clusterbins']\n",
    "covfile = np.genfromtxt(infile[k])\n",
    "ndata=np.max(int(covfile[:,0]))\n",
    "cov = np.zeros((ndata,ndata))\n",
    "for i in range(0,covfile.shape[0]):\n",
    "        cov[int(covfile[i,0]),int(covfile[i,1])] = covfile[i,8]+covfile[i,9]\n",
    "        cov[int(covfile[i,1]),int(covfile[i,0])] = covfile[i,8]+covfile[i,9]\n",
    "\n",
    "# creates a correlation matrix\n",
    "cor = np.zeros((ndata,ndata))\n",
    "for i in range(0,ndata):\n",
    "    for j in range(0,ndata):\n",
    "        if (cov[i,i]*cov[j,j] >0):\n",
    "            cor[i,j] = cov[i,j]/math.sqrt(cov[i,i]*cov[j,j])\n",
    "\n",
    "# Read in 2 covariances\n",
    "# create difference of two covariance matrices, create ratio of two matrices, plot these difference and ratio matrices\n",
    "# create difference of two correlation matrices, create ratio of two matrices, plot these difference and ratio matrices\n",
    "\n",
    "# compute eigenvalues of correlation matrices. EVs have dimension ndata\n",
    "# compare Eigenvalues (difference and ratio)\n"
   ]
  }
 ],
 "metadata": {
  "kernelspec": {
   "display_name": "Python 2",
   "language": "python",
   "name": "python2"
  },
  "language_info": {
   "codemirror_mode": {
    "name": "ipython",
    "version": 2
   },
   "file_extension": ".py",
   "mimetype": "text/x-python",
   "name": "python",
   "nbconvert_exporter": "python",
   "pygments_lexer": "ipython2",
   "version": "2.7.15"
  }
 },
 "nbformat": 4,
 "nbformat_minor": 2
}
