{
 "cells": [
  {
   "cell_type": "code",
   "execution_count": 46,
   "metadata": {},
   "outputs": [
    {
     "name": "stdout",
     "output_type": "stream",
     "text": [
      "3036 2500 3036\n"
     ]
    }
   ],
   "source": [
    "import sys\n",
    "import math, numpy as np\n",
    "import matplotlib.pyplot as plt\n",
    "import matplotlib.image as mpimg\n",
    "from numpy import linalg as LA\n",
    "import numpy as np\n",
    "\n",
    "\n",
    "\n",
    "infile =['/users/timeifler/Dropbox/cosmolike_store/WFIRST_forecasts/cov/cov_WFIRST_Ncl25_4clusterbins_nrichmin25_source_Dec17']\n",
    "data= ['datav/WFIRST_all_2pt_clusterN_clusterWL_fid']\n",
    "outname=['WFIRST']\n",
    "\n",
    "# the numbers below can be computed knowing the data vector settings, e.g. 10 tomographic source bins results in 55 shear-shear power spectra. Or they can be read off when running the covariance code, i.e. type 'compute_covariance_fourier 100000' and look for the output mentioning number of ggl bins accepted and/or number of cluster weka lensing bins accepted. The default numbers below most likely don't correspond to your binning choices.\n",
    "nggl = 36 \t# number of ggl power spectra\n",
    "ngcl = 26\t# number of cluster-source galaxy power spectra\n",
    "nlens = 9 \t# number of lens bins \n",
    "nlenscl= 4 \t# number of cluster redshift bins \n",
    "nshear = 55 # number of shear tomographic power spectra\n",
    "ncl=25\t\t# number of ell-bins\n",
    "nclgcl=5\t# number of cluster ell-bins\n",
    "nrich=4 \t# number of richness bins\n",
    "\n",
    "\n",
    "ndata = (nshear+nggl+nlens)*ncl+nlenscl*nrich+nrich*ngcl*nclgcl \n",
    "n2pt = (nshear+nggl+nlens)*ncl \n",
    "ncluster = nlenscl*nrich \n",
    "n2ptcl=n2pt+ncluster\n",
    "nclusterN_WL=ncluster+nrich*ngcl*nclgcl\n",
    "\n",
    "for k in range(0,1):\n",
    "    datafile= np.genfromtxt(data[k])\n",
    "    mask = np.zeros(ndata)\n",
    "    for i in range(0,datafile.shape[0]):\n",
    "        if (datafile[i,1] >1.0e-15): \n",
    "            mask[i]=1.0\n",
    "\n",
    "    covfile = np.genfromtxt(infile[k])\n",
    "    cov = np.zeros((ndata,ndata))\n",
    "\n",
    "    print ndata,n2pt,int(np.max(covfile[:,0])+1)\n",
    "\n",
    "    for i in range(0,covfile.shape[0]):\n",
    "        cov[int(covfile[i,0]),int(covfile[i,1])] = covfile[i,8]+covfile[i,9]\n",
    "        cov[int(covfile[i,1]),int(covfile[i,0])] = covfile[i,8]+covfile[i,9]\n",
    "        \n",
    "    \n",
    "    "
   ]
  },
  {
   "cell_type": "code",
   "execution_count": 47,
   "metadata": {},
   "outputs": [
    {
     "name": "stdout",
     "output_type": "stream",
     "text": [
      "min+max eigenvalues full cor:\n",
      "0.00026724476083297337 136.53535884393463\n",
      "neg eigenvalues full cor:\n",
      "indices of the eigenvector corresponding to negative eigenvalues sorted from high absolute value to low:\n"
     ]
    }
   ],
   "source": [
    "    cor = np.zeros((ndata,ndata))\n",
    "    for i in range(0,ndata):\n",
    "        for j in range(0,ndata):\n",
    "            if (cov[i,i]*cov[j,j] >0):\n",
    "                cor[i,j] = cov[i,j]/math.sqrt(cov[i,i]*cov[j,j])\n",
    "\n",
    "    np.set_printoptions(threshold=np.nan)\n",
    "# compute eigenvalues and eigenvectors of correlation matrix\n",
    "    w, v = LA.eigh(cor)\n",
    "# sort values according to size from low to high\n",
    "    a=np.sort(w)\n",
    "    print \"min+max eigenvalues full cor:\"\n",
    "    print np.min(a), np.max(a)\n",
    "    print \"neg eigenvalues full cor:\"\n",
    "    for i in range(0,a.shape[0]):\n",
    "        if (a[i]< 0.0): \n",
    "            print a[i]\n",
    "                \n",
    "# print the indices of the eigenvector corresponding to negative eigenvalues sorted from high absolute value to low absolute value (i.e. in reversed sorting order)   \n",
    "    print \"indices of the eigenvector corresponding to negative eigenvalues sorted from high absolute value to low:\"\n",
    "    for i in range(0,a.shape[0]):\n",
    "        if (a[i]< 0.0):\n",
    "            contaminated=np.argsort(np.fabs((v[:,i])))[::-1]\n",
    "            print repr(contaminated)\n"
   ]
  },
  {
   "cell_type": "code",
   "execution_count": 18,
   "metadata": {},
   "outputs": [],
   "source": [
    "\n",
    "\n",
    "# exclude=[919,  918,  889,  888,  917,  887,  844,  828,  843,  829,  859,\n",
    "#         916,  886,  827,  858,  842,  826]\n",
    "\n",
    "# cov2 = np.copy(cov)\n",
    "# for i in range(0,len(exclude)): \n",
    "#     cov2[int(exclude[i]),:]=0.0\n",
    "#     cov2[:,int(exclude[i])]=0.0\n",
    "#     cov2[int(exclude[i]),int(exclude[i])]=1.0\n",
    "    \n",
    "# cor2 = np.zeros((ndata,ndata))\n",
    "# for i in range(0,ndata):\n",
    "#     for j in range(0,ndata):\n",
    "#         if (cov2[i,i]*cov2[j,j] >0):\n",
    "#             cor2[i,j] = cov2[i,j]/math.sqrt(cov2[i,i]*cov2[j,j])\n",
    "        \n",
    "# # compute eigenvalues and eigenvectors of correlation matrix\n",
    "# w2, v2 = LA.eigh(cor2)\n",
    "# # sort values according to size from low to high\n",
    "# a2=np.sort(w2)\n",
    "# print \"min+max eigenvalues full cor:\"\n",
    "# print np.min(a2), np.max(a2)\n",
    "# print \"neg eigenvalues full cor:\"\n",
    "# for i in range(0,a2.shape[0]):\n",
    "#     if (a2[i]< 0.0): \n",
    "#         print a2[i]"
   ]
  },
  {
   "cell_type": "code",
   "execution_count": 43,
   "metadata": {},
   "outputs": [
    {
     "name": "stdout",
     "output_type": "stream",
     "text": [
      "Problem in ClusterN data vector\n",
      "2500 2516\n"
     ]
    }
   ],
   "source": [
    "def get_index_info(index):\n",
    "    if((index>0) & (index <= nshear*ncl)): \n",
    "        print \"Problem in WL data vector\"\n",
    "    if((index > nshear*ncl) & (index <= (nshear+nggl)*ncl)): print \"Problem in GGL data vector\"\n",
    "    if((index>(nshear+nggl)*ncl) & (index < n2pt-1)): print \"Problem in Clustering data vector\"\n",
    "    \n",
    "    if((index>n2pt) & (index<=n2ptcl)): \n",
    "        print \"Problem in ClusterN data vector\"\n",
    "    if((index>n2ptcl) & (index < ndata-1)): print \"Problem in ClusterWL data vector\"\n",
    "\n",
    "get_index_info(2516)\n",
    "print n2pt, n2ptcl "
   ]
  },
  {
   "cell_type": "code",
   "execution_count": null,
   "metadata": {},
   "outputs": [],
   "source": []
  }
 ],
 "metadata": {
  "kernelspec": {
   "display_name": "Python 2",
   "language": "python",
   "name": "python2"
  },
  "language_info": {
   "codemirror_mode": {
    "name": "ipython",
    "version": 2
   },
   "file_extension": ".py",
   "mimetype": "text/x-python",
   "name": "python",
   "nbconvert_exporter": "python",
   "pygments_lexer": "ipython2",
   "version": "2.7.15"
  }
 },
 "nbformat": 4,
 "nbformat_minor": 2
}
