{
 "cells": [
  {
   "cell_type": "code",
   "execution_count": 70,
   "metadata": {},
   "outputs": [],
   "source": [
    "import sys\n",
    "import math, numpy as np\n",
    "import matplotlib.pyplot as plt\n",
    "import matplotlib.image as mpimg\n",
    "from numpy import linalg as LA\n",
    "import numpy as np\n",
    "\n",
    "infile =['GRS_Chris_Jun3_2019']\n",
    "data=np.genfromtxt(infile[0])\n",
    "\n",
    "h=0.6727\n",
    "z=data[:,0]\n",
    "dz=data[:,1]\n",
    "b_z=data[:,2]\n",
    "n_z=data[:,3] #volume is in Mpc^3, no h\n",
    "n_z_mpcoverh=n_z/h/h/h #transformation to number density in Mpc/h\n",
    "\n",
    "#comoving volume (Gpc^3) is calculated from Ned Wrights calculator. \n",
    "#Below z=0.55 the vol is 39.943, vol contains the volumes below 0.65, 0.75, 0.85, ..., 3.95 \n",
    "vol=[60.664,85.755,114.926,147.827,184.076,223.289,265.095,309.140,355.100,402.679,451.608\n",
    "     ,501.649,552.588,604.235,656.425,709.010,761.863,814.871,867.935,920.971,973.905,1026.671\n",
    "     ,1079.215,1131.488,1183.450,1235.065,1286.303,1337.138,1387.551,1437.521,1487.036,1536.083\n",
    "     ,1584.653,1632.738]\n",
    "\n",
    "vol_Gpcoverh=np.multiply(vol,h*h*h)\n",
    "\n",
    "\n",
    "\n"
   ]
  },
  {
   "cell_type": "code",
   "execution_count": 71,
   "metadata": {},
   "outputs": [
    {
     "name": "stdout",
     "output_type": "stream",
     "text": [
      "0.813677019508416 1.5380266920205647 0.018657500737836806 7.638045716970048\n",
      "1.273735577142336 1.8627072102886855 0.014406050379553056 8.880053868308693\n",
      "1.7480610333810733 2.213131761595241 0.005963593710731202 10.015517202743283\n",
      "2.2806953339432754 2.6170236570382954 0.002513355485336809 11.034694479871163\n",
      "2.7466285288741448 2.9750117121386497 0.0009704554665771797 11.936976872167179\n",
      "3.2661193317422432 3.3767056801909305 0.00034410402181287515 12.726321758544913\n",
      "3.715233431276527 3.7258820763956906 0.00010061962948093903 13.407904172968216\n"
     ]
    }
   ],
   "source": [
    "lim=[0,5,10,15,20,25,30,34]\n",
    "z_weighted=np.multiply(z,n_z_mpcoverh)\n",
    "b_z_weighted=np.multiply(b_z,n_z_mpcoverh)\n",
    "for i in range(len(lim)-1):\n",
    "    znew=np.sum(z_weighted[lim[i]:lim[i+1]]/np.sum(n_z_mpcoverh[lim[i]:lim[i+1]]))\n",
    "    b_z_new=np.sum(b_z_weighted[lim[i]:lim[i+1]]/np.sum(n_z_mpcoverh[lim[i]:lim[i+1]]))\n",
    "    deltavol=vol_Gpcoverh[i+1]-vol_Gpcoverh[i]\n",
    "    # returns weigthed z, number density\n",
    "    print znew, b_z_new, np.sum(n_z_mpcoverh[lim[i]:lim[i+1]]), deltavol\n",
    "\n",
    "#np.split(z,7)\n",
    "# 0.813677019508416 0.0056796 25.091\n",
    "# 1.2737355771423358 0.0043854 29.171\n",
    "# 1.7480610333810733 0.0018154 32.901\n",
    "# 2.280695333943275 0.0007651 36.249\n",
    "# 2.746628528874145 0.00029542 39.213\n",
    "# 3.2661193317422432 0.0001048 41.806\n",
    "# 3.715233431276526 3.063e-05 44.045"
   ]
  },
  {
   "cell_type": "code",
   "execution_count": 75,
   "metadata": {},
   "outputs": [
    {
     "data": {
      "text/plain": [
       "array([[ 5.42588226e+03,  4.88028342e-03,  3.40315975e+03,\n",
       "         4.82921866e+02],\n",
       "       [ 4.88028342e-03,  1.91096097e-03,  1.55848375e-02,\n",
       "        -1.44875083e-03],\n",
       "       [ 3.40315975e+03,  1.55848375e-02,  2.39871048e+03,\n",
       "         2.91581743e+02],\n",
       "       [ 4.82921866e+02, -1.44875083e-03,  2.91581743e+02,\n",
       "         4.73568550e+01]])"
      ]
     },
     "execution_count": 75,
     "metadata": {},
     "output_type": "execute_result"
    }
   ],
   "source": [
    "a=[[5.1227886E-03,  -5.9041677E-03,  -3.6482627E-03,  -2.9777070E-02],\n",
    " [-5.9041677E-03,   5.2358854E+02,  -1.7058440E-02,   1.8125635E-01],\n",
    " [-3.6482627E-03,  -1.7058440E-02,   4.2562782E-03,   1.0996256E-02],\n",
    " [-2.9777070E-02,   1.8125635E-01,   1.0996256E-02,   2.5706845E-01]]\n",
    "b=LA.inv(a)\n",
    "b"
   ]
  },
  {
   "cell_type": "code",
   "execution_count": 18,
   "metadata": {},
   "outputs": [],
   "source": [
    "# exclude=[919,  918,  889,  888,  917,  887,  844,  828,  843,  829,  859,\n",
    "#         916,  886,  827,  858,  842,  826]\n",
    "\n",
    "# cov2 = np.copy(cov)\n",
    "# for i in range(0,len(exclude)): \n",
    "#     cov2[int(exclude[i]),:]=0.0\n",
    "#     cov2[:,int(exclude[i])]=0.0\n",
    "#     cov2[int(exclude[i]),int(exclude[i])]=1.0\n",
    "    \n",
    "# cor2 = np.zeros((ndata,ndata))\n",
    "# for i in range(0,ndata):\n",
    "#     for j in range(0,ndata):\n",
    "#         if (cov2[i,i]*cov2[j,j] >0):\n",
    "#             cor2[i,j] = cov2[i,j]/math.sqrt(cov2[i,i]*cov2[j,j])\n",
    "        \n",
    "# # compute eigenvalues and eigenvectors of correlation matrix\n",
    "# w2, v2 = LA.eigh(cor2)\n",
    "# # sort values according to size from low to high\n",
    "# a2=np.sort(w2)\n",
    "# print \"min+max eigenvalues full cor:\"\n",
    "# print np.min(a2), np.max(a2)\n",
    "# print \"neg eigenvalues full cor:\"\n",
    "# for i in range(0,a2.shape[0]):\n",
    "#     if (a2[i]< 0.0): \n",
    "#         print a2[i]"
   ]
  },
  {
   "cell_type": "code",
   "execution_count": 43,
   "metadata": {},
   "outputs": [
    {
     "name": "stdout",
     "output_type": "stream",
     "text": [
      "Problem in ClusterN data vector\n",
      "2500 2516\n"
     ]
    }
   ],
   "source": [
    "def get_index_info(index):\n",
    "    if((index>0) & (index <= nshear*ncl)): \n",
    "        print \"Problem in WL data vector\"\n",
    "    if((index > nshear*ncl) & (index <= (nshear+nggl)*ncl)): print \"Problem in GGL data vector\"\n",
    "    if((index>(nshear+nggl)*ncl) & (index < n2pt-1)): print \"Problem in Clustering data vector\"\n",
    "    \n",
    "    if((index>n2pt) & (index<=n2ptcl)): \n",
    "        print \"Problem in ClusterN data vector\"\n",
    "    if((index>n2ptcl) & (index < ndata-1)): print \"Problem in ClusterWL data vector\"\n",
    "\n",
    "get_index_info(2516)\n",
    "print n2pt, n2ptcl "
   ]
  },
  {
   "cell_type": "code",
   "execution_count": null,
   "metadata": {},
   "outputs": [],
   "source": []
  }
 ],
 "metadata": {
  "kernelspec": {
   "display_name": "Python 2",
   "language": "python",
   "name": "python2"
  },
  "language_info": {
   "codemirror_mode": {
    "name": "ipython",
    "version": 2
   },
   "file_extension": ".py",
   "mimetype": "text/x-python",
   "name": "python",
   "nbconvert_exporter": "python",
   "pygments_lexer": "ipython2",
   "version": "2.7.15"
  }
 },
 "nbformat": 4,
 "nbformat_minor": 2
}
