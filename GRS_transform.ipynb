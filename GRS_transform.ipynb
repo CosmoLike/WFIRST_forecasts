{
 "cells": [
  {
   "cell_type": "code",
   "execution_count": 1,
   "metadata": {},
   "outputs": [
    {
     "name": "stdout",
     "output_type": "stream",
     "text": [
      "[ 6.30775757  7.63804572  8.88005387 10.0155172  11.03469448 11.93697687\n",
      " 12.72632176 13.40790417 13.99085653 14.48370241 14.89466099 15.23316909\n",
      " 15.50653265 15.7220576  15.88735427 16.00759771 16.08918059 16.13636473\n",
      " 16.1534119  16.14488831 16.11383811 16.0626966  15.99511674 15.91262061\n",
      " 15.81794793 15.71231636 15.59755237 15.47487362 15.34641101 15.21155572\n",
      " 15.07304745 14.93058181 14.78537645 14.63773577]\n"
     ]
    }
   ],
   "source": [
    "import sys\n",
    "import math, numpy as np\n",
    "import matplotlib.pyplot as plt\n",
    "import matplotlib.image as mpimg\n",
    "from numpy import linalg as LA\n",
    "import numpy as np\n",
    "\n",
    "infile =['GRS_Chris_Jun3_2019']\n",
    "data=np.genfromtxt(infile[0])\n",
    "\n",
    "h=0.6727\n",
    "z=data[:,0]\n",
    "dz=data[:,1]\n",
    "b_z=data[:,2]\n",
    "n_z=data[:,3] #volume is in Mpc^3, no h\n",
    "n_z_mpcoverh=n_z/h/h/h #transformation to number density in Mpc/h       number*hhh/hhh/Mpc^3\n",
    "\n",
    "#comoving volume (Gpc^3) is calculated from Ned Wrights calculator. \n",
    "#Below z=0.55 the vol is 39.943, vol contains the volumes below 0.65, 0.75, 0.85, ..., 3.95 \n",
    "vol=[39.943,60.664,85.755,114.926,147.827,184.076,223.289,265.095,309.140,355.100,402.679,451.608\n",
    "     ,501.649,552.588,604.235,656.425,709.010,761.863,814.871,867.935,920.971,973.905,1026.671\n",
    "     ,1079.215,1131.488,1183.450,1235.065,1286.303,1337.138,1387.551,1437.521,1487.036,1536.083\n",
    "     ,1584.653,1632.738]\n",
    "\n",
    "\n",
    "vol_Gpcoverh=np.multiply(vol,h*h*h)\n",
    "delta_vol_Gpcoverh= np.zeros(len(vol)-1)\n",
    "for i in range(len(vol)-1):\n",
    "    delta_vol_Gpcoverh[i]=vol_Gpcoverh[i+1]-vol_Gpcoverh[i]\n",
    "\n",
    "print delta_vol_Gpcoverh\n",
    "\n"
   ]
  },
  {
   "cell_type": "code",
   "execution_count": 3,
   "metadata": {},
   "outputs": [
    {
     "name": "stdout",
     "output_type": "stream",
     "text": [
      "0.8380241275417029 1.554593858558992 0.0038031331430230645 43.87606884237553\n",
      "1.283230456746119 1.8696000357357963 0.0028450264215805605 66.54576174193153\n",
      "1.7509447884375051 2.2152977550539434 0.0011828740500149449 77.24377460038592\n",
      "2.28110745509598 2.617338727380144 0.0005025194988901854 80.53144323628229\n",
      "2.7458348448564265 2.9743992192642494 0.00019456649167114138 79.90221998902331\n",
      "3.2646247756937306 3.3755458601048707 6.900996556697696e-05 77.34270907322531\n",
      "3.7141113645801904 3.7250068643725487 2.5240272415882433e-05 59.42674149016557\n"
     ]
    }
   ],
   "source": [
    "lim=[0,5,10,15,20,25,30,34]\n",
    "NGal=n_z_mpcoverh*delta_vol_Gpcoverh\n",
    "z_weighted=np.multiply(z,NGal)\n",
    "b_z_weighted=np.multiply(b_z,NGal)\n",
    "for i in range(len(lim)-1):\n",
    "    znew=np.sum(z_weighted[lim[i]:lim[i+1]])/np.sum(NGal[lim[i]:lim[i+1]])\n",
    "    b_z_new=np.sum(b_z_weighted[lim[i]:lim[i+1]])/np.sum(NGal[lim[i]:lim[i+1]])\n",
    "    deltavol=np.sum(delta_vol_Gpcoverh[lim[i]:lim[i+1]])\n",
    "    # returns weigthed z, number density\n",
    "    print znew, b_z_new, np.sum(NGal[lim[i]:lim[i+1]])/deltavol, deltavol\n",
    "\n",
    "#np.split(z,7)\n",
    "# 0.813677019508416 0.0056796 25.091\n",
    "# 1.2737355771423358 0.0043854 29.171\n",
    "# 1.7480610333810733 0.0018154 32.901\n",
    "# 2.280695333943275 0.0007651 36.249\n",
    "# 2.746628528874145 0.00029542 39.213\n",
    "# 3.2661193317422432 0.0001048 41.806\n",
    "# 3.715233431276526 3.063e-05 44.045"
   ]
  },
  {
   "cell_type": "code",
   "execution_count": 75,
   "metadata": {},
   "outputs": [
    {
     "data": {
      "text/plain": [
       "array([[ 5.42588226e+03,  4.88028342e-03,  3.40315975e+03,\n",
       "         4.82921866e+02],\n",
       "       [ 4.88028342e-03,  1.91096097e-03,  1.55848375e-02,\n",
       "        -1.44875083e-03],\n",
       "       [ 3.40315975e+03,  1.55848375e-02,  2.39871048e+03,\n",
       "         2.91581743e+02],\n",
       "       [ 4.82921866e+02, -1.44875083e-03,  2.91581743e+02,\n",
       "         4.73568550e+01]])"
      ]
     },
     "execution_count": 75,
     "metadata": {},
     "output_type": "execute_result"
    }
   ],
   "source": [
    "a=[[5.1227886E-03,  -5.9041677E-03,  -3.6482627E-03,  -2.9777070E-02],\n",
    " [-5.9041677E-03,   5.2358854E+02,  -1.7058440E-02,   1.8125635E-01],\n",
    " [-3.6482627E-03,  -1.7058440E-02,   4.2562782E-03,   1.0996256E-02],\n",
    " [-2.9777070E-02,   1.8125635E-01,   1.0996256E-02,   2.5706845E-01]]\n",
    "b=LA.inv(a)\n",
    "b"
   ]
  },
  {
   "cell_type": "code",
   "execution_count": 18,
   "metadata": {},
   "outputs": [],
   "source": [
    "# exclude=[919,  918,  889,  888,  917,  887,  844,  828,  843,  829,  859,\n",
    "#         916,  886,  827,  858,  842,  826]\n",
    "\n",
    "# cov2 = np.copy(cov)\n",
    "# for i in range(0,len(exclude)): \n",
    "#     cov2[int(exclude[i]),:]=0.0\n",
    "#     cov2[:,int(exclude[i])]=0.0\n",
    "#     cov2[int(exclude[i]),int(exclude[i])]=1.0\n",
    "    \n",
    "# cor2 = np.zeros((ndata,ndata))\n",
    "# for i in range(0,ndata):\n",
    "#     for j in range(0,ndata):\n",
    "#         if (cov2[i,i]*cov2[j,j] >0):\n",
    "#             cor2[i,j] = cov2[i,j]/math.sqrt(cov2[i,i]*cov2[j,j])\n",
    "        \n",
    "# # compute eigenvalues and eigenvectors of correlation matrix\n",
    "# w2, v2 = LA.eigh(cor2)\n",
    "# # sort values according to size from low to high\n",
    "# a2=np.sort(w2)\n",
    "# print \"min+max eigenvalues full cor:\"\n",
    "# print np.min(a2), np.max(a2)\n",
    "# print \"neg eigenvalues full cor:\"\n",
    "# for i in range(0,a2.shape[0]):\n",
    "#     if (a2[i]< 0.0): \n",
    "#         print a2[i]"
   ]
  },
  {
   "cell_type": "code",
   "execution_count": 43,
   "metadata": {},
   "outputs": [
    {
     "name": "stdout",
     "output_type": "stream",
     "text": [
      "Problem in ClusterN data vector\n",
      "2500 2516\n"
     ]
    }
   ],
   "source": [
    "def get_index_info(index):\n",
    "    if((index>0) & (index <= nshear*ncl)): \n",
    "        print \"Problem in WL data vector\"\n",
    "    if((index > nshear*ncl) & (index <= (nshear+nggl)*ncl)): print \"Problem in GGL data vector\"\n",
    "    if((index>(nshear+nggl)*ncl) & (index < n2pt-1)): print \"Problem in Clustering data vector\"\n",
    "    \n",
    "    if((index>n2pt) & (index<=n2ptcl)): \n",
    "        print \"Problem in ClusterN data vector\"\n",
    "    if((index>n2ptcl) & (index < ndata-1)): print \"Problem in ClusterWL data vector\"\n",
    "\n",
    "get_index_info(2516)\n",
    "print n2pt, n2ptcl "
   ]
  },
  {
   "cell_type": "code",
   "execution_count": null,
   "metadata": {},
   "outputs": [],
   "source": []
  }
 ],
 "metadata": {
  "kernelspec": {
   "display_name": "Python 2",
   "language": "python",
   "name": "python2"
  },
  "language_info": {
   "codemirror_mode": {
    "name": "ipython",
    "version": 2
   },
   "file_extension": ".py",
   "mimetype": "text/x-python",
   "name": "python",
   "nbconvert_exporter": "python",
   "pygments_lexer": "ipython2",
   "version": "2.7.15"
  }
 },
 "nbformat": 4,
 "nbformat_minor": 2
}
